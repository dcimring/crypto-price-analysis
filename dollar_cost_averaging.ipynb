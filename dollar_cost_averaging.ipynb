{
 "cells": [
  {
   "cell_type": "code",
   "execution_count": 56,
   "metadata": {},
   "outputs": [],
   "source": [
    "# Imports\n",
    "%matplotlib inline\n",
    "import quandl\n",
    "import math\n",
    "import numpy as np\n",
    "import pandas as pd\n",
    "import matplotlib.pyplot as plt\n",
    "import seaborn as sns\n",
    "import collections\n",
    "from datetime import datetime, timedelta\n",
    "from collections import defaultdict\n",
    "import matplotlib.pyplot as plt"
   ]
  },
  {
   "cell_type": "code",
   "execution_count": 166,
   "metadata": {},
   "outputs": [],
   "source": [
    "PERIODS = 12\n",
    "DAYS_BETWEEN = 30"
   ]
  },
  {
   "cell_type": "code",
   "execution_count": 146,
   "metadata": {},
   "outputs": [],
   "source": [
    "# Get price data from Quandl\n",
    "bitcoin = quandl.get(\"BCHAIN/MKPRU\")\n",
    "bitcoin = bitcoin.loc['2011-01-01':] # Remove the 0's\n",
    "bitcoin.dropna(inplace=True)\n",
    "bitcoin.columns = ['Last']"
   ]
  },
  {
   "cell_type": "code",
   "execution_count": 12,
   "metadata": {},
   "outputs": [],
   "source": [
    "def buy_all_now_return(d):\n",
    "    '''d is the date that you are buying'''\n",
    "    price_today = bitcoin.loc[d,'Last']\n",
    "    ret = bitcoin['Last'].iloc[-1] / price_today - 1\n",
    "    return ret"
   ]
  },
  {
   "cell_type": "code",
   "execution_count": 174,
   "metadata": {},
   "outputs": [
    {
     "data": {
      "text/plain": [
       "-0.6457257588675362"
      ]
     },
     "execution_count": 174,
     "metadata": {},
     "output_type": "execute_result"
    }
   ],
   "source": [
    "buy_all_now_return('2018-01-01')"
   ]
  },
  {
   "cell_type": "code",
   "execution_count": 177,
   "metadata": {},
   "outputs": [],
   "source": [
    "def dollar_cost_average_return(d, periods=PERIODS, freq= str(DAYS_BETWEEN) + 'D'):\n",
    "    '''spread your purchase over the next period months from date d'''\n",
    "    buy_dates = pd.date_range(start=d, periods=periods, freq=freq)\n",
    "    return np.mean([buy_all_now_return(d) for d in buy_dates])"
   ]
  },
  {
   "cell_type": "code",
   "execution_count": 178,
   "metadata": {},
   "outputs": [
    {
     "data": {
      "text/plain": [
       "-0.3125103673158862"
      ]
     },
     "execution_count": 178,
     "metadata": {},
     "output_type": "execute_result"
    }
   ],
   "source": [
    "dollar_cost_average_return('2018-01-01')"
   ]
  },
  {
   "cell_type": "code",
   "execution_count": 168,
   "metadata": {},
   "outputs": [],
   "source": [
    "a = []\n",
    "end_date = (datetime.now() - timedelta(days=PERIODS * DAYS_BETWEEN)).strftime('%Y-%m-%d') \n",
    "data = bitcoin.loc[:end_date].copy()\n",
    "\n",
    "for d, row in data.iterrows():\n",
    "    bn = buy_all_now_return(d)\n",
    "    dca = dollar_cost_average_return(d)\n",
    "    a.append(dca>bn)\n",
    "\n",
    "data['dca_better'] = a"
   ]
  },
  {
   "cell_type": "code",
   "execution_count": 182,
   "metadata": {},
   "outputs": [
    {
     "data": {
      "text/html": [
       "<div>\n",
       "<style scoped>\n",
       "    .dataframe tbody tr th:only-of-type {\n",
       "        vertical-align: middle;\n",
       "    }\n",
       "\n",
       "    .dataframe tbody tr th {\n",
       "        vertical-align: top;\n",
       "    }\n",
       "\n",
       "    .dataframe thead th {\n",
       "        text-align: right;\n",
       "    }\n",
       "</style>\n",
       "<table border=\"1\" class=\"dataframe\">\n",
       "  <thead>\n",
       "    <tr style=\"text-align: right;\">\n",
       "      <th></th>\n",
       "      <th>Last</th>\n",
       "      <th>dca_better</th>\n",
       "      <th>green</th>\n",
       "      <th>red</th>\n",
       "    </tr>\n",
       "    <tr>\n",
       "      <th>Date</th>\n",
       "      <th></th>\n",
       "      <th></th>\n",
       "      <th></th>\n",
       "      <th></th>\n",
       "    </tr>\n",
       "  </thead>\n",
       "  <tbody>\n",
       "    <tr>\n",
       "      <th>2011-01-01</th>\n",
       "      <td>0.299998</td>\n",
       "      <td>False</td>\n",
       "      <td>NaN</td>\n",
       "      <td>0.299998</td>\n",
       "    </tr>\n",
       "    <tr>\n",
       "      <th>2011-01-02</th>\n",
       "      <td>0.299996</td>\n",
       "      <td>False</td>\n",
       "      <td>NaN</td>\n",
       "      <td>0.299996</td>\n",
       "    </tr>\n",
       "    <tr>\n",
       "      <th>2011-01-03</th>\n",
       "      <td>0.299998</td>\n",
       "      <td>False</td>\n",
       "      <td>NaN</td>\n",
       "      <td>0.299998</td>\n",
       "    </tr>\n",
       "    <tr>\n",
       "      <th>2011-01-04</th>\n",
       "      <td>0.299899</td>\n",
       "      <td>False</td>\n",
       "      <td>NaN</td>\n",
       "      <td>0.299899</td>\n",
       "    </tr>\n",
       "    <tr>\n",
       "      <th>2011-01-05</th>\n",
       "      <td>0.298998</td>\n",
       "      <td>False</td>\n",
       "      <td>NaN</td>\n",
       "      <td>0.298998</td>\n",
       "    </tr>\n",
       "  </tbody>\n",
       "</table>\n",
       "</div>"
      ],
      "text/plain": [
       "                Last  dca_better  green       red\n",
       "Date                                             \n",
       "2011-01-01  0.299998       False    NaN  0.299998\n",
       "2011-01-02  0.299996       False    NaN  0.299996\n",
       "2011-01-03  0.299998       False    NaN  0.299998\n",
       "2011-01-04  0.299899       False    NaN  0.299899\n",
       "2011-01-05  0.298998       False    NaN  0.298998"
      ]
     },
     "execution_count": 182,
     "metadata": {},
     "output_type": "execute_result"
    }
   ],
   "source": [
    "data.head()"
   ]
  },
  {
   "cell_type": "code",
   "execution_count": 194,
   "metadata": {},
   "outputs": [
    {
     "name": "stdout",
     "output_type": "stream",
     "text": [
      "Dollar cost averaging is better 27.11% of the time\n"
     ]
    }
   ],
   "source": [
    "days_dca_better = float(data['dca_better'].value_counts()[1]) / len(data) * 100\n",
    "print \"Dollar cost averaging is better %0.2f%% of the time\" % days_dca_better"
   ]
  },
  {
   "cell_type": "code",
   "execution_count": 169,
   "metadata": {},
   "outputs": [],
   "source": [
    "data['red'] = np.where(data['dca_better'] == False, data['Last'], np.NAN)"
   ]
  },
  {
   "cell_type": "code",
   "execution_count": 211,
   "metadata": {},
   "outputs": [
    {
     "data": {
      "image/png": "[encoded data removed]",
      "text/plain": [
       "<matplotlib.figure.Figure at 0x10ce0ca50>"
      ]
     },
     "metadata": {},
     "output_type": "display_data"
    }
   ],
   "source": [
    "plt.figure(figsize=(14,10))\n",
    "subset = data.loc['2017':'2019']\n",
    "\n",
    "plt.plot(subset['Last'], color='green')\n",
    "plt.plot(subset['red'], color='red');"
   ]
  },
  {
   "cell_type": "code",
   "execution_count": 215,
   "metadata": {},
   "outputs": [],
   "source": [
    "from bokeh.plotting import figure, output_file, show\n",
    "\n",
    "output_file(\"dollar_cost_averaging.html\")\n",
    "\n",
    "p = figure(plot_width=1000, plot_height=600, x_axis_type=\"datetime\")\n",
    "\n",
    "p.line(d['Last'].index, d['Last'], color=\"green\", alpha=0.5, line_width=2)\n",
    "p.line(d['red'].index, d['red'], color=\"red\", alpha=0.5, line_width=2)\n",
    "\n",
    "show(p)"
   ]
  }
 ],
 "metadata": {
  "kernelspec": {
   "display_name": "Python 2",
   "language": "python",
   "name": "python2"
  },
  "language_info": {
   "codemirror_mode": {
    "name": "ipython",
    "version": 2
   },
   "file_extension": ".py",
   "mimetype": "text/x-python",
   "name": "python",
   "nbconvert_exporter": "python",
   "pygments_lexer": "ipython2",
   "version": "2.7.15"
  }
 },
 "nbformat": 4,
 "nbformat_minor": 2
}
